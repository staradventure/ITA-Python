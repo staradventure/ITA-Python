{
 "cells": [
  {
   "cell_type": "code",
   "execution_count": 3,
   "outputs": [],
   "source": [
    "import math"
   ],
   "metadata": {
    "collapsed": false,
    "ExecuteTime": {
     "end_time": "2024-01-14T07:07:12.831815200Z",
     "start_time": "2024-01-14T07:07:12.824909800Z"
    }
   },
   "id": "94517239c7297876"
  },
  {
   "cell_type": "code",
   "execution_count": 9,
   "outputs": [],
   "source": [
    "#二叉堆的数组实现\n",
    "class BinHeap:\n",
    "    def __init__(self):\n",
    "        self.MaxSize=100\n",
    "        self.length=None\n",
    "        self.array=[None]*self.MaxSize\n",
    "        self.heap_size=0\n",
    "    \n",
    "    def is_even(num):\n",
    "        return num % 2 == 0\n",
    "\n",
    "    def PARENT(self, i):  # 这里的i是数组下标\n",
    "        if self.is_even(i):\n",
    "            return math.floor(i / 2) - 1\n",
    "        else:\n",
    "            return math.floor(i / 2)\n",
    "\n",
    "    def LEFT(self, i):  # 这里的i是数组下标\n",
    "        return 2 * i + 1\n",
    "\n",
    "    def RIGHT(self, i):  # 这里的i是数组下标\n",
    "        return 2 * i + 2\n",
    "    \n",
    "    def MAX_HEAPIFY(self,i):#这里的i是数组下标\n",
    "        l=self.LEFT(i)\n",
    "        r=self.RIGHT(i)\n",
    "        largest=None \n",
    "        if l<=self.heap_size-1 and self.array[l]>self.array[i]:\n",
    "            largest=l\n",
    "        else:\n",
    "            largest=i\n",
    "        if r<=self.heap_size-1 and self.array[r]>self.array[largest]:\n",
    "            largest=r\n",
    "        if largest !=i and largest is not None:\n",
    "            self.exchange(i,largest)\n",
    "            self.MAX_HEAPIFY(largest)\n",
    "            \n",
    "    def exchange(self,i,largest):#这里的i和largest是数组下标\n",
    "        temp=self.array[i]\n",
    "        self.array[i]=self.array[largest]\n",
    "        self.array[largest]=temp\n",
    "        \n",
    "    def BUILD_MAX_HEAP(self): #这里需要把length提前设置好。\n",
    "        self.heap_size=self.length\n",
    "        for i in range(math.floor((self.length-1)/2),1-1-1,-1):\n",
    "            self.MAX_HEAPIFY(i)\n",
    "            \n",
    "    def HEAPSORT(self):\n",
    "        self.BUILD_MAX_HEAP()\n",
    "        for i in range(self.length-1,2-1-1,-1):\n",
    "            self.exchange(1-1,i)\n",
    "            self.heap_size=self.heap_size-1\n",
    "            self.MAX_HEAPIFY(1-1)  \n",
    "            "
   ],
   "metadata": {
    "collapsed": false,
    "ExecuteTime": {
     "end_time": "2024-01-14T07:38:26.639347Z",
     "start_time": "2024-01-14T07:38:26.632312800Z"
    }
   },
   "id": "initial_id"
  },
  {
   "cell_type": "code",
   "execution_count": 10,
   "outputs": [
    {
     "name": "stdout",
     "output_type": "stream",
     "text": [
      "[16, 14, 9, 10, 7, 8, 3, 1, 4, 2]\n",
      "[1, 2, 3, 4, 7, 8, 9, 10, 14, 16]\n"
     ]
    }
   ],
   "source": [
    "A=BinHeap()\n",
    "A.array=[1,2,3,4,7,8,9,10,14,16]\n",
    "A.length=10\n",
    "A.heap_size=10\n",
    "A.BUILD_MAX_HEAP()\n",
    "print(A.array)\n",
    "A.HEAPSORT()\n",
    "print(A.array)"
   ],
   "metadata": {
    "collapsed": false,
    "ExecuteTime": {
     "end_time": "2024-01-14T07:38:28.226339100Z",
     "start_time": "2024-01-14T07:38:28.221516400Z"
    }
   },
   "id": "c51d1fe6d3dd26a"
  },
  {
   "cell_type": "markdown",
   "source": [
    "- 与源代码不同的地方：\n",
    "    - 第9行到第22行：\n",
    "        - 因为数组下标从0开始，所以计算父节点下标的时候重新写了一个规则。\n",
    "    - 第27行和第34行：\n",
    "        - largest在python这里要初始化，否则会报错。\n",
    "    - 第28行、第32行、第45行、第50行、第51行、第53行：\n",
    "        - 因为数组下标从0开始，所以有减1操作。\n",
    "    - 第45行和第50行：\n",
    "        - 为什么减两个1：第一个1是数组下标从0开始，第二个1是因为python的range函数是左闭右开的。"
   ],
   "metadata": {
    "collapsed": false
   },
   "id": "494ad9c408528769"
  },
  {
   "cell_type": "code",
   "execution_count": 31,
   "outputs": [],
   "source": [
    "#优先队列的数组实现\n",
    "class PriorityQueue:\n",
    "    def __init__(self):\n",
    "        self.MaxSize=100\n",
    "        self.length=None\n",
    "        self.array=[None]*self.MaxSize\n",
    "        self.heap_size=0\n",
    "        \n",
    "    def is_even(self,num):\n",
    "        return num % 2 == 0\n",
    "\n",
    "    def PARENT(self, i):  # 这里的i是数组下标\n",
    "        if self.is_even(i):\n",
    "            return math.floor(i / 2) - 1\n",
    "        else:\n",
    "            return math.floor(i / 2)\n",
    "\n",
    "    def LEFT(self, i):  # 这里的i是数组下标\n",
    "        return 2 * i + 1\n",
    "\n",
    "    def RIGHT(self, i):  # 这里的i是数组下标\n",
    "        return 2 * i + 2\n",
    "    \n",
    "    def MAX_HEAPIFY(self,i):#这里的i是数组下标\n",
    "        l=self.LEFT(i)\n",
    "        r=self.RIGHT(i)\n",
    "        largest=None \n",
    "        if l<=self.heap_size-1 and self.array[l]>self.array[i]:\n",
    "            largest=l\n",
    "        else:\n",
    "            largest=i\n",
    "        if r<=self.heap_size-1 and self.array[r]>self.array[largest]:\n",
    "            largest=r\n",
    "        if largest !=i and largest is not None:\n",
    "            self.exchange(i,largest)\n",
    "            self.MAX_HEAPIFY(largest)\n",
    "            \n",
    "    def exchange(self,i,largest):#这里的i和largest是数组下标\n",
    "        temp=self.array[i]\n",
    "        self.array[i]=self.array[largest]\n",
    "        self.array[largest]=temp\n",
    "        \n",
    "    def BUILD_MAX_HEAP(self): #这里需要把length提前设置好。\n",
    "        self.heap_size=self.length\n",
    "        for i in range(math.floor((self.length-1)/2),1-1-1,-1):\n",
    "            self.MAX_HEAPIFY(i)\n",
    "            \n",
    "    def HEAPSORT(self):\n",
    "        self.BUILD_MAX_HEAP()\n",
    "        for i in range(self.length-1,2-1-1,-1):\n",
    "            self.exchange(1-1,i)\n",
    "            self.heap_size=self.heap_size-1\n",
    "            self.MAX_HEAPIFY(1-1) \n",
    "        \n",
    "    def HEAP_MAXIMUM(self):\n",
    "        return self.array[1-1]\n",
    "    \n",
    "    def HEAP_EXTRACT_MAX(self):\n",
    "        if self.heap_size<1:\n",
    "            print(\"heap underflow\")\n",
    "            return\n",
    "        max=self.array[1-1]\n",
    "        self.array[1-1]=self.array[self.heap_size-1]\n",
    "        self.heap_size=self.heap_size-1\n",
    "        self.MAX_HEAPIFY(1-1)\n",
    "        return max\n",
    "            \n",
    "    def HEAP_INCREASE_KEY(self,i,key):\n",
    "        if key<self.array[i]:\n",
    "            print(\"new key is smaller than current key\")\n",
    "        self.array[i]=key\n",
    "        while i>1-1 and self.array[self.PARENT(i)]<self.array[i]:\n",
    "            self.exchange(i,self.PARENT(i))\n",
    "            i=self.PARENT(i)\n",
    "    \n",
    "    def MAX_HEAP_INSERT(self,key):\n",
    "        self.heap_size=self.heap_size+1\n",
    "        self.array.append(None)\n",
    "        self.array[self.heap_size-1]=-2147483648 \n",
    "        self.HEAP_INCREASE_KEY(self.heap_size-1,key)"
   ],
   "metadata": {
    "collapsed": false,
    "ExecuteTime": {
     "end_time": "2024-01-14T08:13:10.163693300Z",
     "start_time": "2024-01-14T08:13:10.157853300Z"
    }
   },
   "id": "66a3aa3e89a24f99"
  },
  {
   "cell_type": "code",
   "execution_count": 23,
   "outputs": [
    {
     "name": "stdout",
     "output_type": "stream",
     "text": [
      "15\n",
      "[15, 13, 9, 5, 12, 8, 7, 4, 0, 6, 2, 1]\n",
      "15\n",
      "[13, 12, 9, 5, 6, 8, 7, 4, 0, 1, 2, 1]\n",
      "11\n"
     ]
    }
   ],
   "source": [
    "A=PriorityQueue()\n",
    "A.array=[15,13,9,5,12,8,7,4,0,6,2,1]\n",
    "A.length=12\n",
    "A.heap_size=12\n",
    "result=A.HEAP_MAXIMUM()\n",
    "print(result)\n",
    "print(A.array)\n",
    "max=A.HEAP_EXTRACT_MAX()\n",
    "print(max)\n",
    "print(A.array)\n",
    "print(A.heap_size)"
   ],
   "metadata": {
    "collapsed": false,
    "ExecuteTime": {
     "end_time": "2024-01-14T08:04:10.683351Z",
     "start_time": "2024-01-14T08:04:10.676211400Z"
    }
   },
   "id": "128e009b46c20f8a"
  },
  {
   "cell_type": "code",
   "execution_count": 32,
   "outputs": [
    {
     "name": "stdout",
     "output_type": "stream",
     "text": [
      "[15, 13, 10, 5, 12, 9, 7, 4, 0, 6, 2, 1, 8]\n"
     ]
    }
   ],
   "source": [
    "A=PriorityQueue()\n",
    "A.array=[15,13,9,5,12,8,7,4,0,6,2,1]\n",
    "A.length=12\n",
    "A.heap_size=12\n",
    "A.MAX_HEAP_INSERT(10)\n",
    "print(A.array)"
   ],
   "metadata": {
    "collapsed": false,
    "ExecuteTime": {
     "end_time": "2024-01-14T08:13:12.952548800Z",
     "start_time": "2024-01-14T08:13:12.948848100Z"
    }
   },
   "id": "4a9a5c12aeedfc8d"
  },
  {
   "cell_type": "markdown",
   "source": [
    "- 与源代码不同的地方：\n",
    "    - 第56行、第62行、第63行、第65行、第72行、第79行、第80行：\n",
    "        - 因为数组下标从0开始，所以有减1操作。\n",
    "    - 第78行：\n",
    "        - 在此处示例的运行方式中，这一行是必需的，因为array的长度没有达到maxsize。\n",
    "    - 第79行：\n",
    "        - 将负无穷改成了-2147483648，因为python没有无穷大的概念。"
   ],
   "metadata": {
    "collapsed": false
   },
   "id": "be7b74563e9b562c"
  },
  {
   "cell_type": "code",
   "execution_count": null,
   "outputs": [],
   "source": [],
   "metadata": {
    "collapsed": false
   },
   "id": "f4066a07ed605b89"
  }
 ],
 "metadata": {
  "kernelspec": {
   "display_name": "Python 3",
   "language": "python",
   "name": "python3"
  },
  "language_info": {
   "codemirror_mode": {
    "name": "ipython",
    "version": 2
   },
   "file_extension": ".py",
   "mimetype": "text/x-python",
   "name": "python",
   "nbconvert_exporter": "python",
   "pygments_lexer": "ipython2",
   "version": "2.7.6"
  }
 },
 "nbformat": 4,
 "nbformat_minor": 5
}
